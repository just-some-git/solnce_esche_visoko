{
 "cells": [
  {
   "cell_type": "code",
   "execution_count": 1,
   "metadata": {},
   "outputs": [
    {
     "name": "stdout",
     "output_type": "stream",
     "text": [
      "New pypi version: 0.1.8.1 (current: 0.1.6.4) | pip install -U g4f\n"
     ]
    }
   ],
   "source": [
    "from VoiceGeneratorFromText import VoiceGeneratorFromText\n",
    "\n",
    "generator = VoiceGeneratorFromText()\n",
    "\n",
    "def GetAnswer(query: str):\n",
    "    # Вызов метода load_path, передавая путь к аудиофайлу\n",
    "    result = generator.generate_answer(query)\n",
    "    # Получение результата\n",
    "    # print(\"Текст запроса:\", result[\"request\"])\n",
    "    print(\"Тема запроса:\", result[\"topic\"])\n",
    "    print(\"Эмоция запроса:\", result[\"emotion\"])\n",
    "    print(\"Путь к аудиофайлу:\", result[\"path\"])\n",
    "    print(\"Сгенерированный текст ответа:\", result[\"answer\"])\n",
    "    print(\"Лог времени:\", result[\"timestamp\"])"
   ]
  },
  {
   "cell_type": "code",
   "execution_count": 16,
   "metadata": {},
   "outputs": [
    {
     "name": "stdout",
     "output_type": "stream",
     "text": [
      "Тема запроса: Тема вопроса: Зачем мне косарь?\n",
      "Эмоция запроса: озабоченная\n",
      "Путь к аудиофайлу: answer\\audio_response_20231110010800.wav\n",
      "Сгенерированный текст ответа: \"Косарь нужен, чтобы сделать тебе стильную прическу, как у нас в Зеленогорске!)\"\n",
      "Лог времени: start 07:39 text topic 07:48 text emo 07:50 text generated 07:57 syntez complete 08:00\n",
      "Тема запроса: Из предложенных тем, предложение \"Съешь мой ботинок?\" не относится ни к одной из них.\n",
      "Эмоция запроса: нейтральная\n",
      "Путь к аудиофайлу: answer\\audio_response_20231110010828.wav\n",
      "Сгенерированный текст ответа: \"Ботинку вкуснее самому! Но осторожно, не пережевай!\"\n",
      "Лог времени: start 08:00 text topic 08:09 text emo 08:13 text generated 08:25 syntez complete 08:28\n",
      "Тема запроса: Тема вопроса: Здоровье и медицина\n",
      "Эмоция запроса: веселая\n",
      "Путь к аудиофайлу: answer\\audio_response_20231110010900.wav\n",
      "Сгенерированный текст ответа: Вижу, шалунить хочешь? Ну давай, я тебе объясню, но только коротко: Незнайка - это я, маленький, смешной и всегда готовый приключениям!\n",
      "Лог времени: start 08:28 text topic 08:32 text emo 08:44 text generated 08:54 syntez complete 09:00\n",
      "Тема запроса: Время и расписание\n",
      "Эмоция запроса: озабоченная\n",
      "Путь к аудиофайлу: answer\\audio_response_20231110011030.wav\n",
      "Сгенерированный текст ответа: \"Когда карета превратится в тыкву!\"\n",
      "Лог времени: start 09:00 text topic 09:12 text emo 10:20 text generated 10:28 syntez complete 10:30\n",
      "Тема запроса: Тема вопроса: Рецепты и кулинария\n",
      "Эмоция запроса: нейтральная\n",
      "Путь к аудиофайлу: answer\\audio_response_20231110011050.wav\n",
      "Сгенерированный текст ответа: Ну, видишь ли, помидор красный потому, что он не успел ещё созреть на зелёный!\n",
      "Лог времени: start 10:30 text topic 10:39 text emo 10:40 text generated 10:46 syntez complete 10:50\n"
     ]
    }
   ],
   "source": [
    "GetAnswer(\"Зачем мне косарь?\")\n",
    "GetAnswer(\"Съешь мой ботинок?\")\n",
    "GetAnswer(\"Ахты шалун?\")\n",
    "GetAnswer(\"когда можно идти домой?\")\n",
    "GetAnswer(\"а почему помидор красный?\")"
   ]
  }
 ],
 "metadata": {
  "kernelspec": {
   "display_name": "base",
   "language": "python",
   "name": "python3"
  },
  "language_info": {
   "codemirror_mode": {
    "name": "ipython",
    "version": 3
   },
   "file_extension": ".py",
   "mimetype": "text/x-python",
   "name": "python",
   "nbconvert_exporter": "python",
   "pygments_lexer": "ipython3",
   "version": "3.9.18"
  }
 },
 "nbformat": 4,
 "nbformat_minor": 2
}
